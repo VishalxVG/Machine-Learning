{
 "cells": [
  {
   "cell_type": "code",
   "execution_count": 2,
   "id": "c29e2b96",
   "metadata": {},
   "outputs": [],
   "source": [
    "import numpy as np\n",
    "from timeit import default_timer as timer"
   ]
  },
  {
   "cell_type": "code",
   "execution_count": 2,
   "id": "8d7a5da6",
   "metadata": {},
   "outputs": [
    {
     "name": "stdout",
     "output_type": "stream",
     "text": [
      "1.23.5\n"
     ]
    }
   ],
   "source": [
    "print(np.__version__)"
   ]
  },
  {
   "cell_type": "markdown",
   "id": "07a858b2",
   "metadata": {},
   "source": [
    "# Array  - shape , dtype , ndim , size , itemsize"
   ]
  },
  {
   "cell_type": "code",
   "execution_count": 10,
   "id": "ad19bda6",
   "metadata": {},
   "outputs": [
    {
     "name": "stdout",
     "output_type": "stream",
     "text": [
      "[1 2 3]\n",
      "(3,)\n",
      "int32\n",
      "1\n",
      "3\n",
      "4\n"
     ]
    }
   ],
   "source": [
    "# 1D Array\n",
    "a = np.array([1,2,3])\n",
    "print(a)\n",
    "print(a.shape) # shape (rows , columns)\n",
    "print(a.dtype) # datatype\n",
    "print(a.ndim)  # dimension of array\n",
    "print(a.size)  # print the no of elements\n",
    "print(a.itemsize)  # =>> each element 32 bits or 4 bytes"
   ]
  },
  {
   "cell_type": "code",
   "execution_count": 11,
   "id": "7caad001",
   "metadata": {},
   "outputs": [
    {
     "data": {
      "text/plain": [
       "array([5, 6, 7])"
      ]
     },
     "execution_count": 11,
     "metadata": {},
     "output_type": "execute_result"
    }
   ],
   "source": [
    "b = a + np.array([4])\n",
    "b"
   ]
  },
  {
   "cell_type": "markdown",
   "id": "9e9c96e0",
   "metadata": {},
   "source": [
    "## LIST vs ARRAY"
   ]
  },
  {
   "cell_type": "code",
   "execution_count": 17,
   "id": "629e43d1",
   "metadata": {},
   "outputs": [
    {
     "name": "stdout",
     "output_type": "stream",
     "text": [
      "32\n",
      "32\n",
      "32\n",
      "32\n"
     ]
    }
   ],
   "source": [
    "# dot product\n",
    "l1 = [1,2,3]\n",
    "l2 = [4,5,6]\n",
    "\n",
    "# dot product for list\n",
    "\n",
    "dot = 0\n",
    "for i in range(len(l1)):\n",
    "    dot += l1[i]  * l2[i]\n",
    "print(dot)  \n",
    "\n",
    "# 1\n",
    "a = np.array(l1)\n",
    "b = np.array(l2)\n",
    "\n",
    "dot = np.dot(a,b)\n",
    "print(dot)\n",
    "\n",
    "#2\n",
    "\n",
    "sum1 = a * b\n",
    "dot = np.sum(sum1)\n",
    "print(dot)\n",
    "\n",
    "#3\n",
    "dot = a @ b\n",
    "print(dot)"
   ]
  },
  {
   "cell_type": "code",
   "execution_count": 25,
   "id": "b827b637",
   "metadata": {},
   "outputs": [
    {
     "name": "stdout",
     "output_type": "stream",
     "text": [
      "list calculation 0.30174629999964964\n",
      "np.dot 0.0024354999986826442\n",
      "ratio 123.8950113581866\n"
     ]
    }
   ],
   "source": [
    "# time comparison\n",
    "\n",
    "a = np.random.randn(1000)\n",
    "b = np.random.randn(1000)\n",
    "\n",
    "A = list(a)\n",
    "B = list(b)\n",
    "\n",
    "T = 1000\n",
    "\n",
    "def dot1():\n",
    "    dot = 0\n",
    "    for i in range(len(A)):\n",
    "        dot += A[i]  * B[i]\n",
    "    return dot\n",
    "\n",
    "def dot2():\n",
    "    dot = np.dot(a,b)\n",
    "    return dot    \n",
    "start = timer()\n",
    "for t in range(T):\n",
    "    dot1()\n",
    "end = timer()\n",
    "t1 = end - start\n",
    "\n",
    "\n",
    "start = timer()\n",
    "for t in range(T):\n",
    "    dot2()\n",
    "end = timer()\n",
    "t2 = end - start\n",
    "\n",
    "print('list calculation' , t1)\n",
    "print('np.dot',t2)\n",
    "print('ratio' , t1 / t2)\n"
   ]
  },
  {
   "cell_type": "markdown",
   "id": "41ec4215",
   "metadata": {},
   "source": [
    "# MULTIDEMENSIONAL ARRAY"
   ]
  },
  {
   "cell_type": "code",
   "execution_count": 45,
   "id": "06235f83",
   "metadata": {},
   "outputs": [
    {
     "name": "stdout",
     "output_type": "stream",
     "text": [
      "[[1 2 3]\n",
      " [4 5 6]]\n",
      "(2, 3)\n",
      "1\n",
      "1\n",
      "\n",
      "[1 2 3]\n",
      "[1 4]\n",
      "\n",
      "[[1 4]\n",
      " [2 5]\n",
      " [3 6]]\n",
      "\n",
      "[[-2.   1. ]\n",
      " [ 1.5 -0.5]]\n",
      "\n",
      "-2.0000000000000004\n",
      "\n",
      "[[1 2]\n",
      " [3 4]]\n",
      "\n",
      "[1 4]\n",
      "\n",
      "[[1 0]\n",
      " [0 4]]\n"
     ]
    }
   ],
   "source": [
    "# Multidimentional Arrays\n",
    "\n",
    "a = np.array([[1,2,3] , [4 ,5 ,6]])\n",
    "print(a)\n",
    "print(a.shape)\n",
    "\n",
    "print(a[0][0])  # a[row][column]\n",
    "print(a[0,0])   # ==>> works on list as well\n",
    "\n",
    "print()\n",
    "\n",
    "print(a[0 , :]) # first row\n",
    "print(a[: , 0]) # first column\n",
    "\n",
    "print()\n",
    "\n",
    "print(a.T)  # Trnaspose of the array\n",
    "\n",
    "print()\n",
    "\n",
    "b = np.array([[1,2] , [3,4]])\n",
    "print(np.linalg.inv(b))  # Inverse of the array\n",
    "\n",
    "\n",
    "print()\n",
    "\n",
    "print(np.linalg.det(b))  # Determinant of the array\n",
    "\n",
    "# Two use cases of diagonal functional\n",
    "\n",
    "print()\n",
    "\n",
    "print(b)\n",
    "print()\n",
    "\n",
    "print(np.diag(b))  # Diagonal elements\n",
    "\n",
    "c = np.diag(b)\n",
    "print()\n",
    "print(np.diag(c))  # Diagonal Matrix"
   ]
  },
  {
   "cell_type": "code",
   "execution_count": 16,
   "id": "d369a76c",
   "metadata": {},
   "outputs": [
    {
     "name": "stdout",
     "output_type": "stream",
     "text": [
      "[[1 2]\n",
      " [3 4]\n",
      " [5 6]] \n",
      "\n",
      "[1 2] \n",
      "\n",
      "[2 4 6] \n",
      "\n",
      "[[False False]\n",
      " [ True  True]\n",
      " [ True  True]] \n",
      "\n",
      "[3 4 5 6]\n",
      "\n",
      "[3 4 5 6]\n"
     ]
    }
   ],
   "source": [
    "a = np.array([[1 , 2] , [3 , 4] , [5,6]])\n",
    "print(a , \"\\n\")\n",
    "\n",
    "print(a[0,:] , \"\\n\")\n",
    "\n",
    "print(a[:,1] , \"\\n\")\n",
    "\n",
    "bool_inx = a > 2\n",
    "print(bool_inx , \"\\n\")\n",
    "\n",
    "print(a[bool_inx])  # Only prits the elements which satisfy the condition\n",
    "\n",
    "print()\n",
    "print(a[a > 2])\n",
    "\n"
   ]
  },
  {
   "cell_type": "code",
   "execution_count": 24,
   "id": "d8910ee9",
   "metadata": {},
   "outputs": [
    {
     "name": "stdout",
     "output_type": "stream",
     "text": [
      "[[0 0]\n",
      " [3 4]\n",
      " [5 6]]\n"
     ]
    }
   ],
   "source": [
    "b = np.where(a > 2 , a , 0) # Return elements greater than 2 and replace elements which are less than 2 with 0\n",
    "print(b)"
   ]
  },
  {
   "cell_type": "code",
   "execution_count": 29,
   "id": "e18db74f",
   "metadata": {},
   "outputs": [
    {
     "name": "stdout",
     "output_type": "stream",
     "text": [
      "[20 78 35]\n",
      "\n",
      " [10 20 58 78]\n"
     ]
    }
   ],
   "source": [
    "# Fancy indexing\n",
    "\n",
    "a = np.array([10 , 20 , 35 , 65 , 45 , 58 , 78])\n",
    "b = [1 , 6 , 2 ]\n",
    "\n",
    "print(a[b] )\n",
    "\n",
    "even = np.argwhere(a % 2 == 0).flatten()\n",
    "print(\"\\n\" , a[even])\n",
    " "
   ]
  },
  {
   "cell_type": "code",
   "execution_count": null,
   "id": "f804bd8c",
   "metadata": {},
   "outputs": [],
   "source": []
  },
  {
   "cell_type": "code",
   "execution_count": null,
   "id": "10a6012f",
   "metadata": {},
   "outputs": [],
   "source": [
    "\n",
    "\n",
    "\n",
    "\n",
    "\n",
    "\n",
    "\n",
    "\n",
    "\n",
    "\n",
    "\n",
    "\n",
    "\n",
    "\n",
    "\n",
    "\n",
    "\n",
    "\n",
    "\n",
    "\n",
    "\n",
    "\n",
    "\n",
    "\n",
    "\n",
    "\n",
    "\n",
    "\n",
    "\n",
    "\n",
    "\n",
    "\n",
    "\n",
    "\n",
    "\n",
    "\n",
    "\n",
    "\n",
    "\n",
    "\n",
    "\n",
    "\n",
    "\n",
    "\n",
    "\n",
    "\n"
   ]
  }
 ],
 "metadata": {
  "kernelspec": {
   "display_name": "Python 3 (ipykernel)",
   "language": "python",
   "name": "python3"
  },
  "language_info": {
   "codemirror_mode": {
    "name": "ipython",
    "version": 3
   },
   "file_extension": ".py",
   "mimetype": "text/x-python",
   "name": "python",
   "nbconvert_exporter": "python",
   "pygments_lexer": "ipython3",
   "version": "3.10.9"
  }
 },
 "nbformat": 4,
 "nbformat_minor": 5
}
